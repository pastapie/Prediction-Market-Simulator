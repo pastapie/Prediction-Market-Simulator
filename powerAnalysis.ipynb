{
  "cells": [
    {
      "cell_type": "markdown",
      "metadata": {
        "id": "view-in-github",
        "colab_type": "text"
      },
      "source": [
        "<a href=\"https://colab.research.google.com/github/pastapie/predictionValueAnalysis/blob/main/powerAnalysis.ipynb\" target=\"_parent\"><img src=\"https://colab.research.google.com/assets/colab-badge.svg\" alt=\"Open In Colab\"/></a>"
      ]
    },
    {
      "cell_type": "code",
      "source": [
        "import numpy as np\n",
        "import pandas as pd\n",
        "import matplotlib.pyplot as plt"
      ],
      "metadata": {
        "id": "QsGrlj4ijhJi"
      },
      "execution_count": null,
      "outputs": []
    },
    {
      "cell_type": "markdown",
      "source": [
        "### Assumptions in `simulate_market`:\n",
        "- **Participant Distribution**: Assumes that 10% of participants are 'strategic', meaning they potentially have better information or models, reflected in their lower variability and smaller biases.\n",
        "- **Biases**:\n",
        "  - Strategic participants have biases uniformly distributed between -0.1 and 0.1, suggesting they are less biased.\n",
        "  - Normal participants have biases uniformly distributed within a wider range (-0.5 to 0.5), indicating greater variability in their judgment or information.\n",
        "- **Standard Deviations**:\n",
        "  - Strategic participants have standard deviations (a measure of prediction variability) uniformly distributed between 0.1 and 0.5, implying more precise predictions.\n",
        "  - Normal participants have standard deviations uniformly distributed between 0.5 and 2, indicating less precision in their predictions.\n",
        "- **Prediction Distribution**: Uses a heavy-tailed t-distribution for generating predictions, which accounts for the likelihood of extreme values more realistically than a normal distribution. The degrees of freedom parameter (set to 5) controls the fatness of the tails.\n",
        "- **Market Consensus**: The market consensus is determined by the median of all predictions, which is robust against outliers and does not disproportionately allow extreme predictions to sway the overall market prediction.\n",
        "- **Error Measurement**: The accuracy of the market is assessed based on whether the absolute difference between the market consensus and the true value is within a specified accuracy threshold (5%).\n",
        "\n",
        "### Assumptions in `find_minimum_participants`:\n",
        "- **Statistical Power**: It requires that at least 80% of trials must achieve the desired accuracy to consider the market reliable. This threshold is a common standard in statistics to ensure a high level of confidence in the results.\n",
        "- **Maximum Participants**: Limits the search for the minimum required participants to 5000, implying that the simulation does not explore scenarios with more than 5000 participants.\n",
        "- **Iteration Through Participants**: The function iteratively increases the number of participants from 1 to the maximum specified, simulating the market for each participant count and checking if the desired accuracy is achieved in 80% of trials. This assumes a linear exploration of participant numbers might be sufficient to find the threshold.\n",
        "\n",
        "### General Assumptions:\n",
        "- **Independence**: Assumes that each participant's prediction is independent of others', not accounting for potential correlations or information cascades that might occur in real prediction markets.\n",
        "- **Static Parameters**: All parameters (biases, standard deviations, degrees of freedom) are fixed throughout the simulations. It does not account for possible changes in market dynamics over time or under different conditions.\n",
        "- **Uniform Distribution of Parameters**: The choice of uniform distribution for biases and standard deviations assumes equal likelihood of all values within the range, which may not accurately reflect real-world distributions."
      ],
      "metadata": {
        "id": "hMclADsLjnBb"
      }
    },
    {
      "cell_type": "code",
      "source": [
        "def simulate_market(n, true_value, desired_accuracy=0.05, bias_range=(-0.5, 0.5), sd_range=(0.5, 2), degrees_of_freedom=5):\n",
        "    \"\"\"\n",
        "    Simulate a prediction market with n participants using a heavy-tailed t-distribution for predictions.\n",
        "    Introduce a subset of 'strategic' participants who have lower variability and potential informational advantages.\n",
        "    \"\"\"\n",
        "    # Assuming the top 10% of participants are 'strategic'\n",
        "    strategic_count = int(n * 0.1)\n",
        "    normal_count = n - strategic_count\n",
        "\n",
        "    # Strategic participants have smaller biases and variances\n",
        "    strategic_biases = np.random.uniform(-0.1, 0.1, strategic_count)\n",
        "    strategic_sds = np.random.uniform(0.1, 0.5, strategic_count)\n",
        "    strategic_predictions = np.random.standard_t(degrees_of_freedom, strategic_count) * strategic_sds + strategic_biases + true_value\n",
        "\n",
        "    # Normal participants\n",
        "    normal_biases = np.random.uniform(bias_range[0], bias_range[1], normal_count)\n",
        "    normal_sds = np.random.uniform(sd_range[0], sd_range[1], normal_count)\n",
        "    normal_predictions = np.random.standard_t(degrees_of_freedom, normal_count) * normal_sds + normal_biases + true_value\n",
        "\n",
        "    # Combine predictions\n",
        "    predictions = np.concatenate((strategic_predictions, normal_predictions))\n",
        "    market_consensus = np.median(predictions)\n",
        "\n",
        "    return abs(market_consensus - true_value) <= desired_accuracy\n",
        "\n",
        "def find_minimum_participants(true_value, trials=1000, max_participants=5000, desired_accuracy=0.05):\n",
        "    \"\"\"\n",
        "    Find the minimum number of participants needed for the prediction market to achieve the desired accuracy.\n",
        "    Includes strategic behavior and heavy-tailed prediction distributions.\n",
        "    \"\"\"\n",
        "    for n in range(1, max_participants):\n",
        "        successful_trials = sum(simulate_market(n, true_value, desired_accuracy) for _ in range(trials))\n",
        "        if successful_trials / trials >= 0.8:  # 80% of the trials must be successful to be considered reliable\n",
        "            return n\n",
        "    return None"
      ],
      "metadata": {
        "id": "ekE5NNSYiS4F"
      },
      "execution_count": null,
      "outputs": []
    },
    {
      "cell_type": "code",
      "source": [
        "minimum_participants = find_minimum_participants(true_value=100, max_participants=1000)\n",
        "print(f\"Minimum participants needed: {minimum_participants}\")"
      ],
      "metadata": {
        "colab": {
          "base_uri": "https://localhost:8080/"
        },
        "id": "RTzqcb5diTnQ",
        "outputId": "49bb4638-7a7a-4ed4-dbca-8408a7ed1fbf"
      },
      "execution_count": null,
      "outputs": [
        {
          "output_type": "stream",
          "name": "stdout",
          "text": [
            "Minimum participants needed: 779\n"
          ]
        }
      ]
    },
    {
      "cell_type": "code",
      "source": [
        "minimum_participants = find_minimum_participants(true_value=100, max_participants=1000, desired_accuracy=0.10)\n",
        "print(f\"Minimum participants needed: {minimum_participants}\")"
      ],
      "metadata": {
        "colab": {
          "base_uri": "https://localhost:8080/"
        },
        "id": "owMOBN5nkSGB",
        "outputId": "701fa552-b4e3-4038-94c4-9f61a1275288"
      },
      "execution_count": null,
      "outputs": [
        {
          "output_type": "stream",
          "name": "stdout",
          "text": [
            "Minimum participants needed: 206\n"
          ]
        }
      ]
    },
    {
      "cell_type": "code",
      "source": [
        "minimum_participants = find_minimum_participants(true_value=100, max_participants=10000, desired_accuracy=0.10)\n",
        "print(f\"Minimum participants needed: {minimum_participants}\")"
      ],
      "metadata": {
        "colab": {
          "base_uri": "https://localhost:8080/"
        },
        "id": "yGGuTog1k-qM",
        "outputId": "9c211701-327f-4c26-d136-f76f1cae59b1"
      },
      "execution_count": null,
      "outputs": [
        {
          "output_type": "stream",
          "name": "stdout",
          "text": [
            "Minimum participants needed: 200\n"
          ]
        }
      ]
    },
    {
      "cell_type": "code",
      "source": [
        "minimum_participants = find_minimum_participants(true_value=100, max_participants=50000, desired_accuracy=0.10)\n",
        "print(f\"Minimum participants needed: {minimum_participants}\")"
      ],
      "metadata": {
        "colab": {
          "base_uri": "https://localhost:8080/"
        },
        "id": "PeVnEZa-lJxf",
        "outputId": "18bbfaee-42b1-460d-e97e-af4272e14b69"
      },
      "execution_count": null,
      "outputs": [
        {
          "output_type": "stream",
          "name": "stdout",
          "text": [
            "Minimum participants needed: 208\n"
          ]
        }
      ]
    }
  ],
  "metadata": {
    "colab": {
      "provenance": [],
      "include_colab_link": true
    },
    "kernelspec": {
      "display_name": "Python 3",
      "name": "python3"
    },
    "language_info": {
      "name": "python"
    }
  },
  "nbformat": 4,
  "nbformat_minor": 0
}